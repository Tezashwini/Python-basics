{
 "cells": [
  {
   "cell_type": "code",
   "execution_count": null,
   "metadata": {},
   "outputs": [],
   "source": []
  },
  {
   "cell_type": "code",
   "execution_count": 6,
   "metadata": {},
   "outputs": [
    {
     "name": "stdout",
     "output_type": "stream",
     "text": [
      "abc\n",
      "8989129788\n",
      "{'abc': 8989129788}\n"
     ]
    }
   ],
   "source": [
    "contacts= {}\n",
    "name=input()\n",
    "phno=int(input())\n",
    "def addcontact(name,phno):\n",
    "    if name not in contacts:\n",
    "        contacts[name] = phno\n",
    "    else:\n",
    "        print(\"Contact %s already exists\" % name)\n",
    "    return\n",
    "addcontact(name,phno)\n",
    "print(contacts)"
   ]
  },
  {
   "cell_type": "code",
   "execution_count": 17,
   "metadata": {},
   "outputs": [
    {
     "name": "stdout",
     "output_type": "stream",
     "text": [
      "<_io.TextIOWrapper name='Data Files/c21.txt' mode='r' encoding='cp1252'>\n",
      "<_io.TextIOWrapper name='Data Files/c21.txt' mode='r' encoding='cp1252'>\n",
      "<_io.TextIOWrapper name='Data Files/c21.txt' mode='r' encoding='cp1252'>\n",
      "<_io.TextIOWrapper name='Data Files/c21.txt' mode='r' encoding='cp1252'>\n",
      "<_io.TextIOWrapper name='Data Files/c21.txt' mode='r' encoding='cp1252'>\n"
     ]
    }
   ],
   "source": [
    "\"\"\"contacts={}\n",
    "def searchcontact(name):\n",
    "    if name in contacts:\n",
    "        print(name,phno[name])\n",
    "    else:\n",
    "        print(\"%s contact already exists\" % name)\n",
    "    return\n",
    "searchcontact(\"lllll\")\"\"\"\n",
    "def search(filename,filedata):\n",
    "    with open(filename,'r') as f:\n",
    "        for line in f:\n",
    "            print(f)\n",
    "    \n",
    "filename ='Data Files/c21.txt'\n",
    "search(filename,'name1')\n",
    "\n"
   ]
  },
  {
   "cell_type": "code",
   "execution_count": 5,
   "metadata": {},
   "outputs": [
    {
     "name": "stdout",
     "output_type": "stream",
     "text": [
      "name1:9867345890\n",
      "name2:98072768391\n"
     ]
    }
   ],
   "source": [
    "def readFile(filename):\n",
    "    f=open(filename,'r')\n",
    "    filedata=f.read()\n",
    "    f.close()\n",
    "    return filedata\n",
    "filename='Data Files/c21.txt'\n",
    "readFile(filename)\n",
    "for line in readFile(filename).split('\\n'):\n",
    "    print(line)\n"
   ]
  },
  {
   "cell_type": "code",
   "execution_count": 3,
   "metadata": {},
   "outputs": [],
   "source": [
    "def apppend(filename,filedata):\n",
    "    with open(filename,'a')as f:\n",
    "        f.write(filedata)\n",
    "    return\n",
    "filename='Data Files/c21.txt'\n",
    "apppend(filename,\"name2:98072768391\")"
   ]
  },
  {
   "cell_type": "code",
   "execution_count": 24,
   "metadata": {},
   "outputs": [
    {
     "name": "stdout",
     "output_type": "stream",
     "text": [
      "name1 added to contacts\n",
      "True\n"
     ]
    }
   ],
   "source": [
    "from Packages import Validators\n",
    "def addcontact(name,phone,email):\n",
    "    filename='Data Files/c21.txt'\n",
    "    if name not in contacts:\n",
    "        with open(filename,'a') as f :\n",
    "            line=name+','+str(phone)+','+email+'\\n'\n",
    "            f.write(line)\n",
    "            print(name,'added to contacts')\n",
    "    else:\n",
    "        print(name,'already exists')\n",
    "    return\n",
    "addcontact(\"name1\",908767537727,\"name123@gmail.com\")\n",
    "#Function to check if contact already exists\n",
    "import re\n",
    "def checkcontact(name):\n",
    "        filename='Data Files/c21.txt'\n",
    "        with open(filename,'r')as f:\n",
    "            filedata=f.read()\n",
    "            pattern= name+','\n",
    "        return re.search(name,filedata)\n",
    "if checkcontact(\"name1\"):\n",
    "    print(True)\n",
    "else:\n",
    "    print(False)\n",
    "            \n",
    "    "
   ]
  },
  {
   "cell_type": "code",
   "execution_count": 61,
   "metadata": {},
   "outputs": [
    {
     "data": {
      "text/plain": [
       "'name1:9867345890,name2:98072768391,name1,908767537727,name123@gmail.com,name1,908767537727,name123@gmail.com,name1,908767537727,name123@gmail.com,'"
      ]
     },
     "execution_count": 61,
     "metadata": {},
     "output_type": "execute_result"
    }
   ],
   "source": [
    "filename='Data Files/c21.txt'\n",
    "def csvtolist(filename):\n",
    "    li=[]\n",
    "    with open(filename,'r')as f:\n",
    "        for line in f:\n",
    "            li.append(line.split('\\n'))\n",
    "    return li\n",
    "def listtofile(li):\n",
    "    s=''\n",
    "    for i in li:\n",
    "        s+=','.join(i)\n",
    "    return s\n",
    "li=csvtolist(filename)\n",
    "listtofile(li)\n",
    "        \n",
    "        "
   ]
  },
  {
   "cell_type": "markdown",
   "metadata": {},
   "source": [
    "* Add contact\n",
    "* Search Contact\n",
    "* Delete Contact\n",
    "* Update Contact\n",
    "* list of all Contact"
   ]
  },
  {
   "cell_type": "code",
   "execution_count": 33,
   "metadata": {},
   "outputs": [],
   "source": [
    "fname='Data Files/contactts.txt'\n",
    "f=open(fname,'w')\n",
    "f.write(\"raj,789912345,raj@gmail.com\")\n",
    "f.close()"
   ]
  },
  {
   "cell_type": "code",
   "execution_count": 34,
   "metadata": {},
   "outputs": [
    {
     "name": "stdout",
     "output_type": "stream",
     "text": [
      "['raj,789912345,raj@gmail.com']\n"
     ]
    }
   ],
   "source": [
    "with open(fname,'r')as f:\n",
    "    print(f.readlines())"
   ]
  },
  {
   "cell_type": "code",
   "execution_count": 37,
   "metadata": {},
   "outputs": [
    {
     "name": "stdout",
     "output_type": "stream",
     "text": [
      "['raj', '789912345', 'raj@gmail.comrani', '98765434', 'rani@gmail.com\\n']\n",
      "['rani', '98765434', 'rani@gmail.com']\n"
     ]
    }
   ],
   "source": [
    "with open(fname,'r') as f:\n",
    "    for line in f:\n",
    "        print(line.split(sep=','))"
   ]
  },
  {
   "cell_type": "code",
   "execution_count": 42,
   "metadata": {},
   "outputs": [
    {
     "name": "stdout",
     "output_type": "stream",
     "text": [
      "raj,789912345,raj@gmail.comrani,98765434,rani@gmail.com\n",
      "\n",
      "rani,98765434,rani@gmail.com\n"
     ]
    }
   ],
   "source": [
    "with open(fname,'r') as f:\n",
    "    for lines in f.readlines():\n",
    "        print(lines)"
   ]
  },
  {
   "cell_type": "code",
   "execution_count": 36,
   "metadata": {},
   "outputs": [],
   "source": [
    "fname='Data Files/contactts.txt'\n",
    "f=open(fname,'a')\n",
    "f.write(\"\\nrani,98765434,rani@gmail.com\")\n",
    "f.close()"
   ]
  },
  {
   "cell_type": "code",
   "execution_count": 27,
   "metadata": {},
   "outputs": [
    {
     "name": "stdout",
     "output_type": "stream",
     "text": [
      "raj,789912345,raj@gmail.comrani,98765434,rani@gmail.com\n",
      " "
     ]
    }
   ],
   "source": [
    "def csvtolist(fname):\n",
    "    li=[]\n",
    "    with open(fname,'r')as f:\n",
    "        for line in f:\n",
    "            li.append(line.split(','))\n",
    "    return li\n",
    "#print(csvtolist(filename))\n",
    "\n",
    "def searchcont(fname,name):\n",
    "    f2=csvtolist(fname)\n",
    "    flag=0\n",
    "    for line in f2:\n",
    "        if name == line[0]:\n",
    "            flag=1\n",
    "            print(','.join(line),end=' ')\n",
    "    if flag == 0:\n",
    "        print(\"contact not found\")\n",
    "        return -1\n",
    "fname='Data Files/contactts.txt'\n",
    "searchcont(fname,'raj')"
   ]
  },
  {
   "cell_type": "code",
   "execution_count": 11,
   "metadata": {},
   "outputs": [
    {
     "data": {
      "text/plain": [
       "0"
      ]
     },
     "execution_count": 11,
     "metadata": {},
     "output_type": "execute_result"
    }
   ],
   "source": [
    "def csvtolist(filename):\n",
    "    li=[]\n",
    "    with open(filename,'r')as f:\n",
    "        for line in f:\n",
    "            li.append(line.split(','))\n",
    "    return li\n",
    "def searchcontr(fname,name):\n",
    "    f2=csvtolist(fname)\n",
    "    flag=0\n",
    "    for line in range (len(f2)):\n",
    "        if name ==f2[line][0]:\n",
    "            flag=1\n",
    "            return line\n",
    "    if flag == 0:\n",
    "        return -1\n",
    "fname='Data Files/contactts.txt'\n",
    "searchcontr(fname,'raj')"
   ]
  },
  {
   "cell_type": "code",
   "execution_count": null,
   "metadata": {},
   "outputs": [],
   "source": []
  },
  {
   "cell_type": "code",
   "execution_count": 2,
   "metadata": {},
   "outputs": [],
   "source": [
    "def modify(fname,name,value):\n",
    "    a=searchcont(fname,name)\n",
    "    if a!=-1:\n",
    "        f1=csvtolist\n"
   ]
  },
  {
   "cell_type": "code",
   "execution_count": 31,
   "metadata": {},
   "outputs": [
    {
     "name": "stdout",
     "output_type": "stream",
     "text": [
      "contact not found to remove\n"
     ]
    }
   ],
   "source": [
    "def listtofile(li):\n",
    "    s=''\n",
    "    for i in li:\n",
    "        s+=','.join(i)\n",
    "    return s\n",
    "li=csvtolist(fname)\n",
    "listtofile(li)\n",
    "def contDel(fname,name):\n",
    "    i=searchcontr(fname,name)\n",
    "    if i!=-1:\n",
    "        f1=csvtolist(fname)\n",
    "        f1.pop(i)\n",
    "        s=listtofile(f1)\n",
    "        with open(fname,'w') as f:\n",
    "            f.write(s)\n",
    "    else:\n",
    "        print(\"contact not found to remove\")\n",
    "fname='Data Files/contactts.txt'\n",
    "contDel(fname,'raj')\n",
    "            "
   ]
  },
  {
   "cell_type": "code",
   "execution_count": 26,
   "metadata": {},
   "outputs": [
    {
     "name": "stdout",
     "output_type": "stream",
     "text": [
      "name1:9867345890\n",
      "\n",
      "name2:98072768391\n",
      "\n",
      "name1,908767537727,name123@gmail.com\n",
      "\n",
      "name1,908767537727,name123@gmail.com\n",
      "\n",
      "name1,908767537727,name123@gmail.com\n",
      "\n"
     ]
    }
   ],
   "source": [
    "def search(filename,filedata):\n",
    "    with open(filename,'r') as f:\n",
    "        if csvtolist(filename):\n",
    "            for line in f:\n",
    "                print(line)\n",
    "                if filedata==line[0]:\n",
    "                    print(line)\n",
    "    \n",
    "filename ='Data Files/c21.txt'\n",
    "search(filename,'name2')"
   ]
  },
  {
   "cell_type": "code",
   "execution_count": null,
   "metadata": {},
   "outputs": [],
   "source": []
  },
  {
   "cell_type": "code",
   "execution_count": null,
   "metadata": {},
   "outputs": [],
   "source": []
  }
 ],
 "metadata": {
  "kernelspec": {
   "display_name": "Python 3",
   "language": "python",
   "name": "python3"
  },
  "language_info": {
   "codemirror_mode": {
    "name": "ipython",
    "version": 3
   },
   "file_extension": ".py",
   "mimetype": "text/x-python",
   "name": "python",
   "nbconvert_exporter": "python",
   "pygments_lexer": "ipython3",
   "version": "3.7.3"
  }
 },
 "nbformat": 4,
 "nbformat_minor": 2
}
