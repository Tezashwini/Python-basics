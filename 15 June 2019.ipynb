{
 "cells": [
  {
   "cell_type": "markdown",
   "metadata": {},
   "source": [
    "# Task 2---Closet to zero\n",
    "- li -[3,2,-1,-2,-3] --Original list\n",
    "-Sort the data\n",
    "-li =[-3,-2,-1,2,3] ---Sorted list\n",
    "-pl =[1,2,2,3,3]---Postive sorted list\n",
    "-pl[0]---> Check this number is postive or negative in the original list\n",
    "-if pl[0] in li:\n",
    "    -return pl[0]\n",
    "-else \n",
    "     -return -pl[0]"
   ]
  },
  {
   "cell_type": "code",
   "execution_count": 2,
   "metadata": {},
   "outputs": [
    {
     "name": "stdout",
     "output_type": "stream",
     "text": [
      "1\n"
     ]
    }
   ],
   "source": [
    "l=[-1,-2,2,3,-3]\n",
    "l.sort()\n",
    "pl=[]\n",
    "for i in l:\n",
    "    pl.append(abs(i))\n",
    "pl.sort()\n",
    "if pl[0] in l:\n",
    "    print (pl[0])\n",
    "else:\n",
    "    print (pl[0])"
   ]
  },
  {
   "cell_type": "code",
   "execution_count": 3,
   "metadata": {},
   "outputs": [
    {
     "name": "stdout",
     "output_type": "stream",
     "text": [
      "-1\n"
     ]
    }
   ],
   "source": [
    "l=[-1,-2,2,3,-3]\n",
    "l.sort()\n",
    "pl=[]\n",
    "for i in l:\n",
    "    pl.append(abs(i))\n",
    "pl.sort()\n",
    "if -pl[0] in l:\n",
    "    print (-pl[0])\n",
    "else:\n",
    "    print (pl[0])"
   ]
  },
  {
   "cell_type": "code",
   "execution_count": 5,
   "metadata": {},
   "outputs": [
    {
     "name": "stdout",
     "output_type": "stream",
     "text": [
      "100\n"
     ]
    }
   ],
   "source": [
    "# farthest from the zero \n",
    "l=[-1,-2,2,-3,-100]\n",
    "l.sort()\n",
    "pl=[]\n",
    "for i in l:\n",
    "    pl.append(abs(i))\n",
    "pl.sort()\n",
    "if pl[0] in l:\n",
    "    print (pl[-1])\n",
    "else:\n",
    "    print (pl[-1])"
   ]
  },
  {
   "cell_type": "code",
   "execution_count": 14,
   "metadata": {},
   "outputs": [
    {
     "data": {
      "text/plain": [
       "8"
      ]
     },
     "execution_count": 14,
     "metadata": {},
     "output_type": "execute_result"
    }
   ],
   "source": [
    "# given with three numbers a,b,c.\n",
    "#Write the program to find the largest number which is less than or equal to c and leaves remainder b when didvided by a\n",
    "def num(a,b,c):\n",
    "    l=[]\n",
    "    for i in range (1,c+1):\n",
    "        if i%a==b:\n",
    "            l.append(i)\n",
    "    if len(l)==0:\n",
    "        return -1\n",
    "    else:\n",
    "        return max(l)\n",
    "num(3,2,9)"
   ]
  },
  {
   "cell_type": "code",
   "execution_count": 16,
   "metadata": {},
   "outputs": [
    {
     "data": {
      "text/plain": [
       "['__add__',\n",
       " '__class__',\n",
       " '__contains__',\n",
       " '__delattr__',\n",
       " '__dir__',\n",
       " '__doc__',\n",
       " '__eq__',\n",
       " '__format__',\n",
       " '__ge__',\n",
       " '__getattribute__',\n",
       " '__getitem__',\n",
       " '__getnewargs__',\n",
       " '__gt__',\n",
       " '__hash__',\n",
       " '__init__',\n",
       " '__init_subclass__',\n",
       " '__iter__',\n",
       " '__le__',\n",
       " '__len__',\n",
       " '__lt__',\n",
       " '__mod__',\n",
       " '__mul__',\n",
       " '__ne__',\n",
       " '__new__',\n",
       " '__reduce__',\n",
       " '__reduce_ex__',\n",
       " '__repr__',\n",
       " '__rmod__',\n",
       " '__rmul__',\n",
       " '__setattr__',\n",
       " '__sizeof__',\n",
       " '__str__',\n",
       " '__subclasshook__',\n",
       " 'capitalize',\n",
       " 'casefold',\n",
       " 'center',\n",
       " 'count',\n",
       " 'encode',\n",
       " 'endswith',\n",
       " 'expandtabs',\n",
       " 'find',\n",
       " 'format',\n",
       " 'format_map',\n",
       " 'index',\n",
       " 'isalnum',\n",
       " 'isalpha',\n",
       " 'isascii',\n",
       " 'isdecimal',\n",
       " 'isdigit',\n",
       " 'isidentifier',\n",
       " 'islower',\n",
       " 'isnumeric',\n",
       " 'isprintable',\n",
       " 'isspace',\n",
       " 'istitle',\n",
       " 'isupper',\n",
       " 'join',\n",
       " 'ljust',\n",
       " 'lower',\n",
       " 'lstrip',\n",
       " 'maketrans',\n",
       " 'partition',\n",
       " 'replace',\n",
       " 'rfind',\n",
       " 'rindex',\n",
       " 'rjust',\n",
       " 'rpartition',\n",
       " 'rsplit',\n",
       " 'rstrip',\n",
       " 'split',\n",
       " 'splitlines',\n",
       " 'startswith',\n",
       " 'strip',\n",
       " 'swapcase',\n",
       " 'title',\n",
       " 'translate',\n",
       " 'upper',\n",
       " 'zfill']"
      ]
     },
     "execution_count": 16,
     "metadata": {},
     "output_type": "execute_result"
    }
   ],
   "source": [
    "dir(str)"
   ]
  },
  {
   "cell_type": "code",
   "execution_count": 4,
   "metadata": {},
   "outputs": [
    {
     "name": "stdout",
     "output_type": "stream",
     "text": [
      "2\n",
      "strr str\n"
     ]
    },
    {
     "data": {
      "text/plain": [
       "['strr', 'str']"
      ]
     },
     "execution_count": 4,
     "metadata": {},
     "output_type": "execute_result"
    }
   ],
   "source": [
    "T=int(input())\n",
    "S=[]\n",
    "S=input().split()\n",
    "S"
   ]
  },
  {
   "cell_type": "code",
   "execution_count": 17,
   "metadata": {},
   "outputs": [
    {
     "data": {
      "text/plain": [
       "['asad']"
      ]
     },
     "execution_count": 17,
     "metadata": {},
     "output_type": "execute_result"
    }
   ],
   "source": [
    "a='asad'\n",
    "b=a.split()\n",
    "b"
   ]
  },
  {
   "cell_type": "code",
   "execution_count": 18,
   "metadata": {},
   "outputs": [
    {
     "ename": "ValueError",
     "evalue": "empty separator",
     "output_type": "error",
     "traceback": [
      "\u001b[1;31m---------------------------------------------------------------------------\u001b[0m",
      "\u001b[1;31mValueError\u001b[0m                                Traceback (most recent call last)",
      "\u001b[1;32m<ipython-input-18-8d809471c328>\u001b[0m in \u001b[0;36m<module>\u001b[1;34m\u001b[0m\n\u001b[1;32m----> 1\u001b[1;33m \u001b[1;34m\"hg\"\u001b[0m\u001b[1;33m.\u001b[0m\u001b[0msplit\u001b[0m\u001b[1;33m(\u001b[0m\u001b[1;34m''\u001b[0m\u001b[1;33m)\u001b[0m\u001b[1;33m\u001b[0m\u001b[1;33m\u001b[0m\u001b[0m\n\u001b[0m",
      "\u001b[1;31mValueError\u001b[0m: empty separator"
     ]
    }
   ],
   "source": [
    "\"hg\""
   ]
  },
  {
   "cell_type": "code",
   "execution_count": 22,
   "metadata": {},
   "outputs": [
    {
     "name": "stdout",
     "output_type": "stream",
     "text": [
      "9\n",
      "2 3 5 7 "
     ]
    }
   ],
   "source": [
    "n=input()\n",
    "s=int(n)\n",
    "def prime(s):\n",
    "    for k in range (1,s+1):\n",
    "        count=0\n",
    "        for i in range(1,k+1):\n",
    "            if k%i==0:\n",
    "                count+=1\n",
    "        if count==2:\n",
    "                print(i,end=' ')\n",
    "prime(s)"
   ]
  },
  {
   "cell_type": "code",
   "execution_count": 31,
   "metadata": {},
   "outputs": [
    {
     "name": "stdout",
     "output_type": "stream",
     "text": [
      "1\n",
      "2 36 7 45\n",
      "5 9\n"
     ]
    }
   ],
   "source": [
    "#Rahul is a very busy persion he dont wan't to waste his time.He keeps account of duration of each and every work. \n",
    "#Now he don't even get time to calculate duration of works, \n",
    "#So your job is to count the durations for each work and give it to rahul.\n",
    "#Input:First line will be given by N number of works\n",
    "#Next N line will be given SH,SM,EH and EM  each separated by space\n",
    "#(SH=starting hr, SM=starting min, EH=ending hr, EM=ending min)\n",
    "\n",
    "#Duration \n",
    "#Input: start time,end time(HH MM)\n",
    "    #HH - {00 01 02 .....23}-{00 00,23 59}\n",
    "    #MM -{00 01 .......59}\n",
    "#Output:time differnce in HH MM\n",
    "\n",
    "# Calculate the total number of minutes \n",
    "s = \" 1 44 2 44\"\n",
    "def minutedifference(s):\n",
    "    s=s.split()\n",
    "    sh=int(s[0])\n",
    "    sm=int(s[1])\n",
    "    eh=int(s[2])\n",
    "    em=int(s[3])\n",
    "    startminutes =(sh*60)+sm\n",
    "    endminutes=(eh*60)+em\n",
    "    return endminutes - startminutes\n",
    "def outputtimeformat(minutes):\n",
    "    hh=minutes // 60\n",
    "    mm= minutes % 60\n",
    "    print(hh,mm)\n",
    "    return\n",
    "minutes=minutedifference(s)\n",
    "outputtimeformat(minutes)\n",
    "\n"
   ]
  },
  {
   "cell_type": "code",
   "execution_count": 1,
   "metadata": {},
   "outputs": [
    {
     "name": "stdout",
     "output_type": "stream",
     "text": [
      "add\n",
      "9\n"
     ]
    }
   ],
   "source": [
    "#char sum\n",
    "sum=0\n",
    "a=input()\n",
    "for i in a:\n",
    "    u=ord(i)-96\n",
    "    sum=sum+u\n",
    "print(sum)\n",
    "\n",
    "        \n"
   ]
  },
  {
   "cell_type": "code",
   "execution_count": 2,
   "metadata": {},
   "outputs": [
    {
     "data": {
      "text/plain": [
       "'AsD'"
      ]
     },
     "execution_count": 2,
     "metadata": {},
     "output_type": "execute_result"
    }
   ],
   "source": [
    "#toggle string\n",
    "def togglestring(s):\n",
    "    s=list(s)\n",
    "    t=[]\n",
    "    for c in s:\n",
    "        if c.islower():\n",
    "            t.append(c.upper())\n",
    "        else:\n",
    "            t.append(c.lower())\n",
    "    return \"\".join(t)\n",
    "togglestring(\"aSd\")\n",
    "        "
   ]
  },
  {
   "cell_type": "code",
   "execution_count": 13,
   "metadata": {},
   "outputs": [
    {
     "name": "stdout",
     "output_type": "stream",
     "text": [
      "9\n",
      "2 3 5 7 "
     ]
    }
   ],
   "source": [
    "#Prime number list printing in a given range\n",
    "n=input()\n",
    "s=int(n)\n",
    "def prime(s):\n",
    "    for k in range (1,s+1):\n",
    "        count=0\n",
    "        for i in range(1,k+1):\n",
    "            if k%i==0:\n",
    "                count+=1\n",
    "        if count==2:\n",
    "            print(i,end=' ')\n",
    "prime(s)\n",
    "            "
   ]
  },
  {
   "cell_type": "code",
   "execution_count": 15,
   "metadata": {},
   "outputs": [
    {
     "name": "stdout",
     "output_type": "stream",
     "text": [
      "aba\n",
      "YES\n"
     ]
    }
   ],
   "source": [
    "#Palindromic STRING\n",
    "a=input()\n",
    "b=a[::-1]\n",
    "if b==a:\n",
    "    print(\"YES\")\n",
    "else:\n",
    "    print(\"NO\")"
   ]
  },
  {
   "cell_type": "code",
   "execution_count": 16,
   "metadata": {},
   "outputs": [
    {
     "name": "stdout",
     "output_type": "stream",
     "text": [
      "2 8 2\n",
      "4\n"
     ]
    }
   ],
   "source": [
    "# Count divisors\n",
    "s=input().split()# Write your code here\n",
    "l=int(s[0])\n",
    "r=int(s[1])\n",
    "k=int(s[2])\n",
    "def divisors(l,r,k):\n",
    "    count=0\n",
    "    for i in range (l,r+1):\n",
    "        if i%k==0:\n",
    "            count+=1\n",
    "    print(count)\n",
    "    return\n",
    "\n",
    "\n",
    "divisors(l,r,k)\n"
   ]
  }
 ],
 "metadata": {
  "kernelspec": {
   "display_name": "Python 3",
   "language": "python",
   "name": "python3"
  },
  "language_info": {
   "codemirror_mode": {
    "name": "ipython",
    "version": 3
   },
   "file_extension": ".py",
   "mimetype": "text/x-python",
   "name": "python",
   "nbconvert_exporter": "python",
   "pygments_lexer": "ipython3",
   "version": "3.7.3"
  }
 },
 "nbformat": 4,
 "nbformat_minor": 2
}
