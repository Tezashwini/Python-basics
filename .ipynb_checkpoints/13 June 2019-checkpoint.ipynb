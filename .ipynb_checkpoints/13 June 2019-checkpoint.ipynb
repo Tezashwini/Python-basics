{
 "cells": [
  {
   "cell_type": "code",
   "execution_count": 16,
   "metadata": {},
   "outputs": [
    {
     "name": "stdout",
     "output_type": "stream",
     "text": [
      "1\n",
      "3\n",
      "9\n",
      "33\n",
      "153\n"
     ]
    },
    {
     "data": {
      "text/plain": [
       "30"
      ]
     },
     "execution_count": 16,
     "metadata": {},
     "output_type": "execute_result"
    }
   ],
   "source": [
    "# function to calculate the average of all the factorials of a given number\n",
    "def factors(n):\n",
    "   s=1\n",
    "   for i in range(1,n+1,1):\n",
    "       \n",
    "       s=s*i\n",
    "   return s \n",
    "def avgfacto(m):\n",
    "   count=0\n",
    "   sum=0\n",
    "   for i in range(1,m+1):\n",
    "       sum=sum+factors(i)\n",
    "       print(sum)\n",
    "   avrg=sum//m\n",
    "   return avrg\n",
    "avgfacto(5)\n"
   ]
  },
  {
   "cell_type": "code",
   "execution_count": null,
   "metadata": {},
   "outputs": [],
   "source": []
  },
  {
   "cell_type": "code",
   "execution_count": null,
   "metadata": {},
   "outputs": [],
   "source": []
  },
  {
   "cell_type": "code",
   "execution_count": 12,
   "metadata": {},
   "outputs": [
    {
     "name": "stdout",
     "output_type": "stream",
     "text": [
      "153 371 407 "
     ]
    }
   ],
   "source": [
    "#Function to print odd armstrong numbers in a given range\n",
    "def oddarmstrongno(n):\n",
    "   for k in range(110,n+1):\n",
    "       a=len(str(k))\n",
    "       n1=k\n",
    "       sum=0\n",
    "       while(k>0):\n",
    "           d=k%10\n",
    "           sum=sum+(d**a)\n",
    "           k=k//10\n",
    "       if sum==n1:\n",
    "           if n1%2!=0:\n",
    "               print(n1,end=\" \")\n",
    "       \n",
    "oddarmstrongno(420)"
   ]
  },
  {
   "cell_type": "code",
   "execution_count": null,
   "metadata": {},
   "outputs": [],
   "source": []
  },
  {
   "cell_type": "code",
   "execution_count": null,
   "metadata": {},
   "outputs": [],
   "source": []
  },
  {
   "cell_type": "code",
   "execution_count": 14,
   "metadata": {},
   "outputs": [
    {
     "name": "stdout",
     "output_type": "stream",
     "text": [
      "10 * 100 = 1000\n",
      "10 * 101 = 1010\n",
      "10 * 102 = 1020\n"
     ]
    }
   ],
   "source": [
    "#Function to generate Multiplication table for a number in a given range\n",
    "#10 in the range(100, 102) inclusive\n",
    "#10 x 100 = 1000\n",
    "#10 x 101 = 1010\n",
    "#10 x 102 = 1020\n",
    "def multi(n,lb,ub):\n",
    "   for i in range(lb,ub+1):\n",
    "       res=n*i\n",
    "       print(n,\"*\",i,\"=\",res)\n",
    "multi(10,100,102)"
   ]
  },
  {
   "cell_type": "code",
   "execution_count": null,
   "metadata": {},
   "outputs": [],
   "source": []
  }
 ],
 "metadata": {
  "kernelspec": {
   "display_name": "Python 3",
   "language": "python",
   "name": "python3"
  },
  "language_info": {
   "codemirror_mode": {
    "name": "ipython",
    "version": 3
   },
   "file_extension": ".py",
   "mimetype": "text/x-python",
   "name": "python",
   "nbconvert_exporter": "python",
   "pygments_lexer": "ipython3",
   "version": "3.7.3"
  }
 },
 "nbformat": 4,
 "nbformat_minor": 2
}
