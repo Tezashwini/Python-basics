{
 "cells": [
  {
   "cell_type": "markdown",
   "metadata": {},
   "source": [
    "# TUPLES : denoted by \"()\"\n",
    "differnce between tuple and list\n",
    "--->lists are mutable(=changable)....used to access,modify,add,delete data\n",
    "--->tuples are immutable(=cant changable)mostly used to when the data is fixed and cant changeable,used to access data only"
   ]
  },
  {
   "cell_type": "code",
   "execution_count": 2,
   "metadata": {},
   "outputs": [
    {
     "data": {
      "text/plain": [
       "(3, 4, 5)"
      ]
     },
     "execution_count": 2,
     "metadata": {},
     "output_type": "execute_result"
    }
   ],
   "source": [
    "t1=(1,2,3,4,5)\n",
    "t1[3]  #accessing the 4th element\n",
    "# accessing the middle element from the last\n",
    "t1[len(t1)//2:]\n"
   ]
  },
  {
   "cell_type": "markdown",
   "metadata": {},
   "source": [
    "# Dictionaries :\n",
    "It works based on the concept of set\n",
    "Unique data....where as the tuples and list can have same data\n",
    "keys,values --- most important words\n",
    "Key: unique identifier\n",
    "value: data can be accessed  with a key only\n",
    "no index values..instead of them keys are there in dictionary\n"
   ]
  },
  {
   "cell_type": "code",
   "execution_count": 11,
   "metadata": {},
   "outputs": [
    {
     "data": {
      "text/plain": [
       "True"
      ]
     },
     "execution_count": 11,
     "metadata": {},
     "output_type": "execute_result"
    }
   ],
   "source": [
    "d1 ={\"k1\":\"value1\",\"k2\":\"value2\"}\n",
    "d1[\"k2\"] #accessing the value with key \"k2\"\n",
    "d1.keys() # returns the list of all keys\n",
    "d1.values() # returns the list of all values\n",
    "d1.items() #returns the list of tuple of keys and values\n",
    "d1[\"k3\"]=\"value3\" # adding/updating the dictionary\n",
    "d1.pop(\"k3\") # removing an element\n",
    "d1\n",
    "\"k2\" in d1 # searching for a particular "
   ]
  },
  {
   "cell_type": "code",
   "execution_count": 1,
   "metadata": {},
   "outputs": [
    {
     "name": "stdout",
     "output_type": "stream",
     "text": [
      "llll\n",
      "1234567776\n",
      "{'picchi': 9505305452, 'llll': 1234567776}\n"
     ]
    }
   ],
   "source": [
    "# Simple Contact application\n",
    "#- Add contact\n",
    "#- Search Contact\n",
    "#- List all Contacts\n",
    "#- Modify Contact\n",
    "#- Remove Contact \n",
    "\n",
    "\n",
    "contacts= {'picchi': 9505305452}\n",
    "name=input()\n",
    "phno=int(input())\n",
    "def addcontact(name,phno):\n",
    "    if name not in contacts:\n",
    "        contacts[name] = phno\n",
    "    else:\n",
    "        print(\"Contact %s already exists\" % name)\n",
    "    return\n",
    "addcontact(name,phno)\n",
    "print(contacts)\n",
    "\n",
    "\n",
    "\n",
    "\n",
    "    \n",
    "    "
   ]
  },
  {
   "cell_type": "code",
   "execution_count": 4,
   "metadata": {},
   "outputs": [
    {
     "name": "stdout",
     "output_type": "stream",
     "text": [
      "asadsf contact already exists\n"
     ]
    }
   ],
   "source": [
    "def searchcontact(name):\n",
    "    if name in contacts:\n",
    "        print(name,phno[name])\n",
    "    else:\n",
    "        print(\"%s contact already exists\" % name1)\n",
    "    return\n",
    "searchcontact(\"lllll\")"
   ]
  },
  {
   "cell_type": "code",
   "execution_count": 7,
   "metadata": {},
   "outputs": [
    {
     "name": "stdout",
     "output_type": "stream",
     "text": [
      "dict_items([('picchi', 9505305452), ('llll', 1234567776)])\n"
     ]
    }
   ],
   "source": [
    "def contactslist():\n",
    "    print(contacts.items())\n",
    "contactslist()"
   ]
  },
  {
   "cell_type": "code",
   "execution_count": 24,
   "metadata": {},
   "outputs": [
    {
     "name": "stdout",
     "output_type": "stream",
     "text": [
      "dict_items([('picchi', 9505305452), ('llll', 1234567776), ('fsfeg', '32543756867')])\n",
      "None\n"
     ]
    }
   ],
   "source": [
    "def modifycontact(name,phno):\n",
    "    name=phno\n",
    "    return\n",
    "modifycontact(\"ddfgg\",9876667789)\n",
    "print(contactslist())\n"
   ]
  },
  {
   "cell_type": "code",
   "execution_count": 23,
   "metadata": {},
   "outputs": [
    {
     "name": "stdout",
     "output_type": "stream",
     "text": [
      "{'picchi': 9505305452, 'llll': 1234567776, 'fsfeg': '32543756867'} contacts added\n"
     ]
    }
   ],
   "source": [
    "# New contacts is given as a dictionory\n",
    "# Merge new contacts\n",
    "def importContacts(newcontacts):\n",
    "    contacts.update(newcontacts)\n",
    "    print(contacts,\"contacts added\")\n",
    "    return\n",
    "newcontacts={\"fsfeg\":\"32543756867\"}\n",
    "importContacts(newcontacts)"
   ]
  },
  {
   "cell_type": "code",
   "execution_count": null,
   "metadata": {},
   "outputs": [],
   "source": [
    "# Packages and Modules :\n",
    "# Package --> Collection of Modules(Python.file)\n",
    "-----> Subpackages:\n",
    "# Module --> A single python file containing functions\n",
    "#Package ---> Subpackages ---> Modules ---> Functions"
   ]
  },
  {
   "cell_type": "code",
   "execution_count": 28,
   "metadata": {},
   "outputs": [
    {
     "data": {
      "text/plain": [
       "3.141592653589793"
      ]
     },
     "execution_count": 28,
     "metadata": {},
     "output_type": "execute_result"
    }
   ],
   "source": [
    "from math import floor\n",
    "floor(123.456)\n",
    "math.pi"
   ]
  },
  {
   "cell_type": "code",
   "execution_count": 29,
   "metadata": {},
   "outputs": [
    {
     "data": {
      "text/plain": [
       "123"
      ]
     },
     "execution_count": 29,
     "metadata": {},
     "output_type": "execute_result"
    }
   ],
   "source": [
    "from math import floor as f\n",
    "f(123.456)\n"
   ]
  },
  {
   "cell_type": "code",
   "execution_count": 36,
   "metadata": {},
   "outputs": [
    {
     "name": "stdout",
     "output_type": "stream",
     "text": [
      "15 15 13 8 10 17 9 "
     ]
    }
   ],
   "source": [
    "# function to generate n random numbers\n",
    "import random\n",
    "def nrandomnogen(n,ub,lb):\n",
    "    for i in range(0,n):\n",
    "        print(random.randint(lb,ub),end=\" \")\n",
    "nrandomnogen(7,17,0)"
   ]
  },
  {
   "cell_type": "code",
   "execution_count": 3,
   "metadata": {},
   "outputs": [
    {
     "name": "stdout",
     "output_type": "stream",
     "text": [
      "9\n"
     ]
    },
    {
     "data": {
      "text/plain": [
       "True"
      ]
     },
     "execution_count": 3,
     "metadata": {},
     "output_type": "execute_result"
    }
   ],
   "source": [
    "# own package - set of fuctions:\n",
    "from Packages import Numerical\n",
    "Numerical.prime(n)   # modulename.functionname"
   ]
  },
  {
   "cell_type": "code",
   "execution_count": 2,
   "metadata": {},
   "outputs": [
    {
     "name": "stdout",
     "output_type": "stream",
     "text": [
      "1 3 9 "
     ]
    }
   ],
   "source": [
    "from Packages import Numerical\n",
    "Numerical.fact(9)"
   ]
  },
  {
   "cell_type": "code",
   "execution_count": null,
   "metadata": {},
   "outputs": [],
   "source": []
  },
  {
   "cell_type": "code",
   "execution_count": null,
   "metadata": {},
   "outputs": [],
   "source": []
  },
  {
   "cell_type": "code",
   "execution_count": null,
   "metadata": {},
   "outputs": [],
   "source": []
  },
  {
   "cell_type": "code",
   "execution_count": null,
   "metadata": {},
   "outputs": [],
   "source": []
  },
  {
   "cell_type": "code",
   "execution_count": null,
   "metadata": {},
   "outputs": [],
   "source": []
  },
  {
   "cell_type": "code",
   "execution_count": null,
   "metadata": {},
   "outputs": [],
   "source": []
  },
  {
   "cell_type": "code",
   "execution_count": null,
   "metadata": {},
   "outputs": [],
   "source": []
  },
  {
   "cell_type": "code",
   "execution_count": null,
   "metadata": {},
   "outputs": [],
   "source": []
  },
  {
   "cell_type": "code",
   "execution_count": null,
   "metadata": {},
   "outputs": [],
   "source": []
  },
  {
   "cell_type": "code",
   "execution_count": null,
   "metadata": {},
   "outputs": [],
   "source": []
  }
 ],
 "metadata": {
  "kernelspec": {
   "display_name": "Python 3",
   "language": "python",
   "name": "python3"
  },
  "language_info": {
   "codemirror_mode": {
    "name": "ipython",
    "version": 3
   },
   "file_extension": ".py",
   "mimetype": "text/x-python",
   "name": "python",
   "nbconvert_exporter": "python",
   "pygments_lexer": "ipython3",
   "version": "3.7.3"
  }
 },
 "nbformat": 4,
 "nbformat_minor": 2
}
