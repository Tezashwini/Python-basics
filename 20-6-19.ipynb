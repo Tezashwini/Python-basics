{
 "cells": [
  {
   "cell_type": "markdown",
   "metadata": {},
   "source": [
    "# Regular expression tester\n",
    "\n",
    "[0-9] - Digits <br>\n",
    "[a-z] - alphabets <br>\n",
    "[2468]- multiples of 2 <br>\n",
    "^[0-9]{1}$ ---> single digit would be printed  <br>\n",
    "^[0-9]{3}$ ---> only 3 digit numbers  <br>\n",
    "[0-9]*0$ ----> All the multiples of 10 <br>\n",
    " ---> All the multiples of 5 ------>^[1-9][0-9]*[05]$ <br>([0-9][1-9]*[05]\n",
    " ---> All 10 digit numbers ---->  ^[1-9]{10}$  <br>\n",
    " ---> Validating phone number(India)(start with 6789 <br> \"^[6789]{1}[0-9]{9}$\"\n",
    " ---> Email validation (username@domain.extension) <br>\n",
    "     -->username : --> length of the username-[6,15] <br> No special characters other than _ . <br> should not begin and end with _. <br> Characterset: all digits and alphabet(lowercase) <br>\n",
    "     -->Domain : --> length of the domain-[3,18] <br> No special characters <br> Characterset :digits and alphabets(lowercase) <br>\n",
    "     -->Extension : ---> Length of the extension-[2,4] <br> No special characters <br> only alphabet(lowercase)<br>\n",
    "** ^[0-9a-z][0-9a-z_.]{1,19}[@][0-9a-z]{3,18}[.][a-z]{1,4}$ **\n",
    "         \n",
    " [w] [o] [r] [d] search for the word"
   ]
  },
  {
   "cell_type": "code",
   "execution_count": 6,
   "metadata": {},
   "outputs": [
    {
     "name": "stdout",
     "output_type": "stream",
     "text": [
      "1401601499\n",
      "Illegal ISBN\n",
      "Illegal ISBN\n",
      "Illegal ISBN\n",
      "Illegal ISBN\n",
      "Illegal ISBN\n",
      "Illegal ISBN\n",
      "Illegal ISBN\n",
      "Illegal ISBN\n",
      "Illegal ISBN\n",
      "Illegal ISBN\n"
     ]
    }
   ],
   "source": [
    "#hackerearth problem\n",
    "K=input()\n",
    "S=list(K.split())\n",
    "s1=0\n",
    "for i in range (0,10):\n",
    "    if len(S)==10:\n",
    "        s1+=(i+1)*s1\n",
    "        print(s1)\n",
    "        if S%11 == 0:\n",
    "            print(\"Legal ISBN\")\n",
    "        else:\n",
    "            print(\"Illegal ISBN\")\n",
    "    elif len(S)!=10:\n",
    "        print(\"Illegal ISBN\")"
   ]
  },
  {
   "cell_type": "code",
   "execution_count": null,
   "metadata": {},
   "outputs": [],
   "source": [
    "^[0-9a-z][0-9a-z_.]{1,19}[@][0-9a-z]{3,18}[.][a-z]{1,4}"
   ]
  },
  {
   "cell_type": "code",
   "execution_count": 7,
   "metadata": {},
   "outputs": [
    {
     "name": "stdout",
     "output_type": "stream",
     "text": [
      "invalid number\n"
     ]
    }
   ],
   "source": [
    "# Function to validate a phone number\n",
    "import re\n",
    "def phnovalidate(n):\n",
    "    pattern='^[6-9]{1}[0-9]{9}$|^[0][6-9][0-9]$'\n",
    "    if re.match(pattern,str(n)):\n",
    "        print(\"valid number\")\n",
    "    else:\n",
    "        print(\"invalid number\")\n",
    "phnovalidate(67899064899)"
   ]
  },
  {
   "cell_type": "code",
   "execution_count": 11,
   "metadata": {},
   "outputs": [
    {
     "name": "stdout",
     "output_type": "stream",
     "text": [
      "valid mail\n"
     ]
    }
   ],
   "source": [
    "def emailvalidate(email):\n",
    "    patt='^[0-9a-z][0-9a-z_.]{1,19}[@][0-9a-z]{3,18}[.][a-z]{1,4}$'\n",
    "    if re.match(patt,str(email)):\n",
    "        print(\"valid mail\")\n",
    "    else:\n",
    "        print(\"invalid mail\")\n",
    "emailvalidate(\"abc@gmail.com\")"
   ]
  },
  {
   "cell_type": "code",
   "execution_count": null,
   "metadata": {},
   "outputs": [],
   "source": [
    "contacts= {}\n",
    "name=input()\n",
    "phno=int(input())\n",
    "email='^[0-9a-z][0-9a-z_.]{1,19}[@][0-9a-z]{3,18}[.][a-z]{1,4}$'\n",
    "def addcontact(name,phno):\n",
    "    if name not in contacts and phnovalidate(n) :\n",
    "        contacts[name] = phno\n",
    "        print(\"Contact %s added\"%name)\n",
    "    if not phnovalidate(n):\n",
    "        print(\"Contact %s already exists\" % name)\n",
    "    return\n",
    "addcontact(name,phno)    "
   ]
  },
  {
   "cell_type": "code",
   "execution_count": null,
   "metadata": {},
   "outputs": [],
   "source": []
  },
  {
   "cell_type": "code",
   "execution_count": 20,
   "metadata": {},
   "outputs": [
    {
     "name": "stdout",
     "output_type": "stream",
     "text": [
      "name2 doesnot exist\n"
     ]
    }
   ],
   "source": [
    "contacts={}\n",
    "def searchContacts(name):\n",
    "    if name in contacts:\n",
    "        print(name)\n",
    "        print(\"phone:\",contacts[name][0])\n",
    "        print(\"Email:\",contacts[name][1])\n",
    "    else:\n",
    "        print(\"%s doesnot exist\" %name)\n",
    "    return\n",
    "searchContacts(\"name2\")"
   ]
  },
  {
   "cell_type": "markdown",
   "metadata": {},
   "source": [
    "# File Handling\n",
    "\n",
    "File - Document containing some information residing on the \n",
    "Types - txt,pdf,csv,jpg,...etc..\n",
    "\n",
    "\n",
    "File I/O - Chanelling I/O data to files\n",
    "default I/O - keyboard /Screen\n",
    "\n",
    "Change I/O channel to files for reading and writing\n",
    "\n",
    "read a file -input\n",
    "write a file - output\n",
    "read/write file - open (filename,mode)"
   ]
  },
  {
   "cell_type": "code",
   "execution_count": 24,
   "metadata": {},
   "outputs": [
    {
     "name": "stdout",
     "output_type": "stream",
     "text": [
      "line 1\n",
      "line 2\n",
      "line 3\n",
      "line 4\n"
     ]
    }
   ],
   "source": [
    "def readFile(filename):\n",
    "    f=open(filename,'r')\n",
    "    filedata=f.read()\n",
    "    f.close()\n",
    "    return filedata\n",
    "filename='Data Files/data.txt'\n",
    "readFile(filename)\n",
    "for line in readFile(filename).split('\\n'):\n",
    "    print(line)\n",
    "\n"
   ]
  },
  {
   "cell_type": "code",
   "execution_count": 27,
   "metadata": {},
   "outputs": [
    {
     "name": "stdout",
     "output_type": "stream",
     "text": [
      "line 1\n",
      "line 2\n",
      "line 3\n",
      "line 4"
     ]
    }
   ],
   "source": [
    "def printdata(filename):\n",
    "    f=open(filename,'r')\n",
    "    for line in f:\n",
    "        print(line,end='')\n",
    "    return\n",
    "filename='Data Files/data.txt'\n",
    "printdata(filename)"
   ]
  },
  {
   "cell_type": "code",
   "execution_count": 28,
   "metadata": {},
   "outputs": [],
   "source": [
    "# function to write data into file \n",
    "\n",
    "def write(filename,filedata):\n",
    "    with open(filename,'w') as f:\n",
    "        f.write(filedata)\n",
    "    return\n",
    "filename = 'Data Files/data.txt'\n",
    "write(filename,\"helloooo iiit\")"
   ]
  },
  {
   "cell_type": "code",
   "execution_count": 29,
   "metadata": {},
   "outputs": [],
   "source": [
    "# function to append the data in the file\n",
    "def apppend(filename,filedata):\n",
    "    with open(filename,'a')as f:\n",
    "        f.write(filedata)\n",
    "    return\n",
    "filename='Data Files/data.txt'\n",
    "apppend(filename,\"byeee iiit\")"
   ]
  },
  {
   "cell_type": "code",
   "execution_count": 31,
   "metadata": {},
   "outputs": [],
   "source": [
    "def apppend(filename,filedata):\n",
    "    with open(filename,'a')as f:\n",
    "        for line in filedata:\n",
    "            f.write('\\n'+line)\n",
    "    return\n",
    "filedata=[\"line4\",\"line5\"]\n",
    "apppend(filename,\"heloo world\")"
   ]
  },
  {
   "cell_type": "code",
   "execution_count": null,
   "metadata": {},
   "outputs": [],
   "source": []
  },
  {
   "cell_type": "code",
   "execution_count": null,
   "metadata": {},
   "outputs": [],
   "source": []
  },
  {
   "cell_type": "code",
   "execution_count": null,
   "metadata": {},
   "outputs": [],
   "source": []
  },
  {
   "cell_type": "code",
   "execution_count": null,
   "metadata": {},
   "outputs": [],
   "source": []
  }
 ],
 "metadata": {
  "kernelspec": {
   "display_name": "Python 3",
   "language": "python",
   "name": "python3"
  },
  "language_info": {
   "codemirror_mode": {
    "name": "ipython",
    "version": 3
   },
   "file_extension": ".py",
   "mimetype": "text/x-python",
   "name": "python",
   "nbconvert_exporter": "python",
   "pygments_lexer": "ipython3",
   "version": "3.7.3"
  }
 },
 "nbformat": 4,
 "nbformat_minor": 2
}
