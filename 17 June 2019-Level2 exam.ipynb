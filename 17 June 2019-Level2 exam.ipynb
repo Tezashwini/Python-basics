{
 "cells": [
  {
   "cell_type": "code",
   "execution_count": 11,
   "metadata": {},
   "outputs": [
    {
     "name": "stdout",
     "output_type": "stream",
     "text": [
      "28\n",
      "YES\n"
     ]
    }
   ],
   "source": [
    "#Write a program to determine whether a number N is equal to proper positive divisors(excluding the number itself)\n",
    "#perfect number\n",
    "n=int(input())\n",
    "def perfect(n):\n",
    "    sum=0\n",
    "    for i in range(1,n):\n",
    "        if n%i==0:\n",
    "            sum=sum+i\n",
    "    if sum==n:\n",
    "        print(\"YES\")\n",
    "    else:\n",
    "        print(\"NO\")\n",
    "perfect(n)\n",
    "    "
   ]
  },
  {
   "cell_type": "code",
   "execution_count": null,
   "metadata": {},
   "outputs": [],
   "source": []
  },
  {
   "cell_type": "code",
   "execution_count": 12,
   "metadata": {},
   "outputs": [
    {
     "ename": "SyntaxError",
     "evalue": "unexpected EOF while parsing (<ipython-input-12-3de16a9a1187>, line 12)",
     "output_type": "error",
     "traceback": [
      "\u001b[1;36m  File \u001b[1;32m\"<ipython-input-12-3de16a9a1187>\"\u001b[1;36m, line \u001b[1;32m12\u001b[0m\n\u001b[1;33m    \u001b[0m\n\u001b[1;37m    ^\u001b[0m\n\u001b[1;31mSyntaxError\u001b[0m\u001b[1;31m:\u001b[0m unexpected EOF while parsing\n"
     ]
    }
   ],
   "source": [
    "#You are given a number N\n",
    "#write a program to find a natural number that is smaller than N such that N gives the highest remainder \n",
    "#when divided by that number\n",
    "def natural(n):\n",
    "    n=int(input())\n",
    "    v=n\n",
    "    for i in range (n-1.n//2,):\n",
    "        r=n%i\n",
    "        if r > hr :\n",
    "            hr=r\n",
    "            v=i\n",
    "        print(v)\n",
    "        return\n",
    "        \n",
    "        \n",
    "        \n",
    "    \n",
    "    \n",
    "    \n"
   ]
  },
  {
   "cell_type": "code",
   "execution_count": null,
   "metadata": {},
   "outputs": [],
   "source": []
  },
  {
   "cell_type": "code",
   "execution_count": 10,
   "metadata": {},
   "outputs": [
    {
     "name": "stdout",
     "output_type": "stream",
     "text": [
      "1\n",
      "asddWW123FFF34\n",
      "9 5 5 4\n"
     ]
    }
   ],
   "source": [
    "#digit and alphabet count\n",
    "t=int(input())\n",
    "s=input()\n",
    "count=0\n",
    "count1=0\n",
    "count2=0\n",
    "count3=0\n",
    "for i in range(len(s)):\n",
    "    if s[i].isalpha():\n",
    "        count+=1\n",
    "        if s[i].isupper():\n",
    "            count2+=1\n",
    "        elif s[i].islower():\n",
    "            count3+=1\n",
    "    elif s[i].isdigit():\n",
    "        count1+=1\n",
    "    \n",
    "print(count,count1,count2,count3)      \n"
   ]
  },
  {
   "cell_type": "code",
   "execution_count": 25,
   "metadata": {},
   "outputs": [
    {
     "ename": "SyntaxError",
     "evalue": "invalid syntax (<ipython-input-25-a3d67017fbae>, line 4)",
     "output_type": "error",
     "traceback": [
      "\u001b[1;36m  File \u001b[1;32m\"<ipython-input-25-a3d67017fbae>\"\u001b[1;36m, line \u001b[1;32m4\u001b[0m\n\u001b[1;33m    if noofprimefactors(n) >==p:\u001b[0m\n\u001b[1;37m                             ^\u001b[0m\n\u001b[1;31mSyntaxError\u001b[0m\u001b[1;31m:\u001b[0m invalid syntax\n"
     ]
    }
   ],
   "source": [
    "n=int(input())\n",
    "p=int(input())\n",
    "def specialnumber(n,p):\n",
    "    if noofprimefactors(n)>=p:\n",
    "        return True\n",
    "    return False\n",
    "    \n",
    "def prime(n):\n",
    "    flag=1\n",
    "    if n==2:\n",
    "        return True\n",
    "    for i in range(2,n//2+1):\n",
    "        if n%i==0:\n",
    "            flag=0\n",
    "            return False\n",
    "    if flag ==1 :\n",
    "        return True\n",
    "prime(n)\n",
    " #FUNCTION TO DETERMINE THE NUMBER OF PRIME FACTORS\n",
    "def noofprimefactors(n):\n",
    "    if prime(n):\n",
    "        return 1\n",
    "        count=0\n",
    "        for i in range(2,n//2+1):\n",
    "            if prime(i) and n%i==0:\n",
    "                count+=1\n",
    "            return count\n",
    "specialnumber(n,p)\n",
    "        \n",
    "    \n",
    "    \n"
   ]
  },
  {
   "cell_type": "code",
   "execution_count": null,
   "metadata": {},
   "outputs": [],
   "source": []
  },
  {
   "cell_type": "code",
   "execution_count": null,
   "metadata": {},
   "outputs": [],
   "source": [
    "\"\"\"def fact(s):\n",
    "    for w in range (1,s+1):\n",
    "        if s%w==0:\n",
    "            print(w,end=\" \")\n",
    "fact(s)\"\"\""
   ]
  },
  {
   "cell_type": "code",
   "execution_count": 33,
   "metadata": {},
   "outputs": [
    {
     "name": "stdout",
     "output_type": "stream",
     "text": [
      "180\n",
      "3\n",
      "650 480\n",
      "660 667\n",
      "150 340\n",
      "UPLOAD ANOTHER\n"
     ]
    }
   ],
   "source": [
    "List = int(input())\n",
    "number = int(input())\n",
    "data = []\n",
    "for i in range(number):\n",
    "    data = list(map(int,input().split()))\n",
    "Width = data[0]\n",
    "Height = data[1]\n",
    "if (Width < List or Height < List):\n",
    "    print(\"UPLOAD ANOTHER\")\n",
    "elif Width == Height:\n",
    "    print(\"ACCEPTED\")\n",
    "else:\n",
    "    print(\"CROP IT\")"
   ]
  },
  {
   "cell_type": "code",
   "execution_count": null,
   "metadata": {},
   "outputs": [],
   "source": []
  },
  {
   "cell_type": "code",
   "execution_count": null,
   "metadata": {},
   "outputs": [],
   "source": []
  },
  {
   "cell_type": "code",
   "execution_count": null,
   "metadata": {},
   "outputs": [],
   "source": []
  },
  {
   "cell_type": "code",
   "execution_count": null,
   "metadata": {},
   "outputs": [],
   "source": []
  },
  {
   "cell_type": "code",
   "execution_count": null,
   "metadata": {},
   "outputs": [],
   "source": []
  },
  {
   "cell_type": "code",
   "execution_count": null,
   "metadata": {},
   "outputs": [],
   "source": []
  },
  {
   "cell_type": "code",
   "execution_count": null,
   "metadata": {},
   "outputs": [],
   "source": []
  },
  {
   "cell_type": "code",
   "execution_count": null,
   "metadata": {},
   "outputs": [],
   "source": []
  },
  {
   "cell_type": "code",
   "execution_count": null,
   "metadata": {},
   "outputs": [],
   "source": [
    "\n",
    "\n"
   ]
  }
 ],
 "metadata": {
  "kernelspec": {
   "display_name": "Python 3",
   "language": "python",
   "name": "python3"
  },
  "language_info": {
   "codemirror_mode": {
    "name": "ipython",
    "version": 3
   },
   "file_extension": ".py",
   "mimetype": "text/x-python",
   "name": "python",
   "nbconvert_exporter": "python",
   "pygments_lexer": "ipython3",
   "version": "3.7.3"
  }
 },
 "nbformat": 4,
 "nbformat_minor": 2
}
